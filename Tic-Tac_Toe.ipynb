{
 "cells": [
  {
   "cell_type": "code",
   "execution_count": 1,
   "id": "b91e2ba4-10b0-419e-aab4-7b16defe27ce",
   "metadata": {},
   "outputs": [
    {
     "name": "stdout",
     "output_type": "stream",
     "text": [
      "  |   |  \n",
      "-----\n",
      "  |   |  \n",
      "-----\n",
      "  |   |  \n",
      "-----\n"
     ]
    },
    {
     "name": "stdin",
     "output_type": "stream",
     "text": [
      "Enter your move (1-9):  2\n"
     ]
    },
    {
     "name": "stdout",
     "output_type": "stream",
     "text": [
      "O | X |  \n",
      "-----\n",
      "  |   |  \n",
      "-----\n",
      "  |   |  \n",
      "-----\n"
     ]
    },
    {
     "name": "stdin",
     "output_type": "stream",
     "text": [
      "Enter your move (1-9):  5\n"
     ]
    },
    {
     "name": "stdout",
     "output_type": "stream",
     "text": [
      "O | X |  \n",
      "-----\n",
      "  | X |  \n",
      "-----\n",
      "  | O |  \n",
      "-----\n"
     ]
    },
    {
     "name": "stdin",
     "output_type": "stream",
     "text": [
      "Enter your move (1-9):  7\n"
     ]
    },
    {
     "name": "stdout",
     "output_type": "stream",
     "text": [
      "O | X | O\n",
      "-----\n",
      "  | X |  \n",
      "-----\n",
      "X | O |  \n",
      "-----\n"
     ]
    },
    {
     "name": "stdin",
     "output_type": "stream",
     "text": [
      "Enter your move (1-9):  4\n"
     ]
    },
    {
     "name": "stdout",
     "output_type": "stream",
     "text": [
      "O | X | O\n",
      "-----\n",
      "X | X | O\n",
      "-----\n",
      "X | O |  \n",
      "-----\n"
     ]
    },
    {
     "name": "stdin",
     "output_type": "stream",
     "text": [
      "Enter your move (1-9):  9\n"
     ]
    },
    {
     "name": "stdout",
     "output_type": "stream",
     "text": [
      "O | X | O\n",
      "-----\n",
      "X | X | O\n",
      "-----\n",
      "X | O | X\n",
      "-----\n",
      "It's a tie!\n"
     ]
    }
   ],
   "source": [
    "import math\n",
    "\n",
    "def print_board(board):\n",
    "    for row in board:\n",
    "        print(\" | \".join(row))\n",
    "        print(\"-\" * 5)\n",
    "\n",
    "\n",
    "def is_board_full(board):\n",
    "    for row in board:\n",
    "        if \" \" in row:\n",
    "            return False\n",
    "    return True\n",
    "\n",
    "\n",
    "def check_winner(board, player):\n",
    "    \n",
    "    for row in board:\n",
    "        if all([cell == player for cell in row]):\n",
    "            return True\n",
    "\n",
    "    for col in range(3):\n",
    "        if all([board[row][col] == player for row in range(3)]):\n",
    "            return True\n",
    "\n",
    "    if all([board[i][i] == player for i in range(3)]) or all([board[i][2 - i] == player for i in range(3)]):\n",
    "        return True\n",
    "\n",
    "    return False\n",
    "\n",
    "\n",
    "def minimax(board, depth, is_maximizing, alpha, beta):\n",
    "    if check_winner(board, \"X\"):\n",
    "        return -1\n",
    "    if check_winner(board, \"O\"):\n",
    "        return 1\n",
    "    if is_board_full(board):\n",
    "        return 0\n",
    "\n",
    "    if is_maximizing:\n",
    "        max_eval = -math.inf\n",
    "        for i in range(3):\n",
    "            for j in range(3):\n",
    "                if board[i][j] == \" \":\n",
    "                    board[i][j] = \"O\"\n",
    "                    eval = minimax(board, depth + 1, False, alpha, beta)\n",
    "                    board[i][j] = \" \"\n",
    "                    max_eval = max(max_eval, eval)\n",
    "                    alpha = max(alpha, eval)\n",
    "                    if beta <= alpha:\n",
    "                        break\n",
    "        return max_eval\n",
    "    else:\n",
    "        min_eval = math.inf\n",
    "        for i in range(3):\n",
    "            for j in range(3):\n",
    "                if board[i][j] == \" \":\n",
    "                    board[i][j] = \"X\"\n",
    "                    eval = minimax(board, depth + 1, True, alpha, beta)\n",
    "                    board[i][j] = \" \"\n",
    "                    min_eval = min(min_eval, eval)\n",
    "                    beta = min(beta, eval)\n",
    "                    if beta <= alpha:\n",
    "                        break\n",
    "        return min_eval\n",
    "\n",
    "\n",
    "def ai_move(board):\n",
    "    best_move = None\n",
    "    best_value = -math.inf\n",
    "    for i in range(3):\n",
    "        for j in range(3):\n",
    "            if board[i][j] == \" \":\n",
    "                board[i][j] = \"O\"\n",
    "                move_value = minimax(board, 0, False, -math.inf, math.inf)\n",
    "                board[i][j] = \" \"\n",
    "                if move_value > best_value:\n",
    "                    best_value = move_value\n",
    "                    best_move = (i, j)\n",
    "    board[best_move[0]][best_move[1]] = \"O\"\n",
    "\n",
    "\n",
    "def human_move(board):\n",
    "    move = int(input(\"Enter your move (1-9): \")) - 1\n",
    "    row, col = divmod(move, 3)\n",
    "    if board[row][col] == \" \":\n",
    "        board[row][col] = \"X\"\n",
    "    else:\n",
    "        print(\"Invalid move. Try again.\")\n",
    "        human_move(board)\n",
    "\n",
    "\n",
    "def play_game():\n",
    "    board = [[\" \" for _ in range(3)] for _ in range(3)]\n",
    "    while True:\n",
    "        print_board(board)\n",
    "        if check_winner(board, \"X\"):\n",
    "            print(\"You win!\")\n",
    "            break\n",
    "        if check_winner(board, \"O\"):\n",
    "            print(\"AI wins!\")\n",
    "            break\n",
    "        if is_board_full(board):\n",
    "            print(\"It's a tie!\")\n",
    "            break\n",
    "        human_move(board)\n",
    "        if not is_board_full(board) and not check_winner(board, \"X\"):\n",
    "            ai_move(board)\n",
    "\n",
    "\n",
    "play_game()\n"
   ]
  },
  {
   "cell_type": "code",
   "execution_count": null,
   "id": "1a5a5610-1592-463b-9601-e15abf4e9634",
   "metadata": {},
   "outputs": [],
   "source": []
  }
 ],
 "metadata": {
  "kernelspec": {
   "display_name": "Python 3 (ipykernel)",
   "language": "python",
   "name": "python3"
  },
  "language_info": {
   "codemirror_mode": {
    "name": "ipython",
    "version": 3
   },
   "file_extension": ".py",
   "mimetype": "text/x-python",
   "name": "python",
   "nbconvert_exporter": "python",
   "pygments_lexer": "ipython3",
   "version": "3.11.7"
  }
 },
 "nbformat": 4,
 "nbformat_minor": 5
}
